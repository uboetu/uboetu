{
 "cells": [
  {
   "cell_type": "code",
   "execution_count": 1,
   "id": "c2b89876",
   "metadata": {},
   "outputs": [],
   "source": [
    "\n",
    "import yfinance as yf\n",
    "import pandas as pd\n",
    "import plotly.graph_objects as go\n",
    "from tqdm import tqdm\n"
   ]
  },
  {
   "cell_type": "code",
   "execution_count": 2,
   "id": "9d3f4074",
   "metadata": {},
   "outputs": [],
   "source": [
    "\n",
    "def fetch_uranium_stocks_data(stock):\n",
    "    periods = [\"1d\", \"5d\", \"1mo\", \"3mo\", \"6mo\", \"1y\", \"5y\"]\n",
    "    data_dict = {}\n",
    "    for period in periods:\n",
    "        data = yf.download(stock, period=period, group_by='ticker', progress=False)\n",
    "        data_dict[period] = data\n",
    "    return data_dict\n"
   ]
  },
  {
   "cell_type": "code",
   "execution_count": 3,
   "id": "247d7231",
   "metadata": {},
   "outputs": [],
   "source": [
    "\n",
    "def plot_refined_single_stock_period(data_dicts, uranium_stocks):\n",
    "    fig = go.Figure()\n",
    "\n",
    "    periods = [\"1d\", \"5d\", \"1mo\", \"3mo\", \"6mo\", \"1y\", \"5y\"]\n",
    "\n",
    "    for stock in uranium_stocks:\n",
    "        data_dict = data_dicts[stock]\n",
    "        for period, data in data_dict.items():\n",
    "            fig.add_trace(go.Candlestick(x=data.index,\n",
    "                                         open=data['Open'],\n",
    "                                         high=data['High'],\n",
    "                                         low=data['Low'],\n",
    "                                         close=data['Close'],\n",
    "                                         visible=False,\n",
    "                                         name=f\"{stock} - {period}\"))\n",
    "\n",
    "    fig.data[uranium_stocks.index(uranium_stocks[0]) * len(periods)].visible = True\n",
    "\n",
    "    fig.update_layout(title=f'Candlestick chart - {uranium_stocks[0]} - 1mo',\n",
    "                      xaxis_title='Date',\n",
    "                      yaxis_title='Price',\n",
    "                      xaxis_rangeslider_visible=False)\n",
    "\n",
    "    stock_buttons = []\n",
    "    for i, stock in enumerate(uranium_stocks):\n",
    "        visible = [False] * len(fig.data)\n",
    "        for j in range(len(periods)):\n",
    "            if (i * len(periods) + j) < len(fig.data):\n",
    "                visible[i * len(periods) + j] = True\n",
    "        stock_buttons.append(dict(label=stock,\n",
    "                                  method=\"update\",\n",
    "                                  args=[{\"visible\": visible}]))\n",
    "\n",
    "    period_buttons = []\n",
    "    for i, period in enumerate(periods):\n",
    "        visible = [False] * len(fig.data)\n",
    "        for j in range(len(uranium_stocks)):\n",
    "            if (j * len(periods) + i) < len(fig.data):\n",
    "                visible[j * len(periods) + i] = True\n",
    "        period_buttons.append(dict(label=period,\n",
    "                                   method=\"update\",\n",
    "                                   args=[{\"visible\": visible}]))\n",
    "\n",
    "    fig.update_layout(updatemenus=[\n",
    "        dict(buttons=stock_buttons,\n",
    "             direction=\"down\",\n",
    "             pad={\"r\": 10, \"t\": 10},\n",
    "             showactive=True,\n",
    "             x=0.1,\n",
    "             xanchor=\"left\",\n",
    "             y=1.15,\n",
    "             yanchor=\"top\"),\n",
    "        dict(buttons=period_buttons,\n",
    "             direction=\"down\",\n",
    "             pad={\"r\": 10, \"t\": 10},\n",
    "             showactive=True,\n",
    "             x=0.3,\n",
    "             xanchor=\"left\",\n",
    "             y=1.15,\n",
    "             yanchor=\"top\")\n",
    "    ])\n",
    "\n",
    "    return fig\n"
   ]
  },
  {
   "cell_type": "code",
   "execution_count": 5,
   "id": "08257397",
   "metadata": {},
   "outputs": [
    {
     "name": "stderr",
     "output_type": "stream",
     "text": [
      "Fetching stock data:  40%|████      | 6/15 [00:16<00:25,  2.81s/it]\n"
     ]
    },
    {
     "ename": "KeyboardInterrupt",
     "evalue": "",
     "output_type": "error",
     "traceback": [
      "\u001b[1;31m---------------------------------------------------------------------------\u001b[0m",
      "\u001b[1;31mKeyboardInterrupt\u001b[0m                         Traceback (most recent call last)",
      "\u001b[1;32mc:\\Users\\boetr\\Desktop\\Programeren\\refined_stock_notebook.ipynb Cell 4\u001b[0m line \u001b[0;36m8\n\u001b[0;32m      <a href='vscode-notebook-cell:/c%3A/Users/boetr/Desktop/Programeren/refined_stock_notebook.ipynb#W3sZmlsZQ%3D%3D?line=5'>6</a>\u001b[0m data_dicts \u001b[39m=\u001b[39m {}\n\u001b[0;32m      <a href='vscode-notebook-cell:/c%3A/Users/boetr/Desktop/Programeren/refined_stock_notebook.ipynb#W3sZmlsZQ%3D%3D?line=6'>7</a>\u001b[0m \u001b[39mfor\u001b[39;00m stock \u001b[39min\u001b[39;00m tqdm(uranium_stocks, desc\u001b[39m=\u001b[39m\u001b[39m\"\u001b[39m\u001b[39mFetching stock data\u001b[39m\u001b[39m\"\u001b[39m):\n\u001b[1;32m----> <a href='vscode-notebook-cell:/c%3A/Users/boetr/Desktop/Programeren/refined_stock_notebook.ipynb#W3sZmlsZQ%3D%3D?line=7'>8</a>\u001b[0m     data_dicts[stock] \u001b[39m=\u001b[39m fetch_uranium_stocks_data(stock)\n\u001b[0;32m     <a href='vscode-notebook-cell:/c%3A/Users/boetr/Desktop/Programeren/refined_stock_notebook.ipynb#W3sZmlsZQ%3D%3D?line=9'>10</a>\u001b[0m fig \u001b[39m=\u001b[39m plot_refined_single_stock_period(data_dicts, uranium_stocks)\n\u001b[0;32m     <a href='vscode-notebook-cell:/c%3A/Users/boetr/Desktop/Programeren/refined_stock_notebook.ipynb#W3sZmlsZQ%3D%3D?line=10'>11</a>\u001b[0m fig\u001b[39m.\u001b[39mshow()\n",
      "\u001b[1;32mc:\\Users\\boetr\\Desktop\\Programeren\\refined_stock_notebook.ipynb Cell 4\u001b[0m line \u001b[0;36m5\n\u001b[0;32m      <a href='vscode-notebook-cell:/c%3A/Users/boetr/Desktop/Programeren/refined_stock_notebook.ipynb#W3sZmlsZQ%3D%3D?line=2'>3</a>\u001b[0m data_dict \u001b[39m=\u001b[39m {}\n\u001b[0;32m      <a href='vscode-notebook-cell:/c%3A/Users/boetr/Desktop/Programeren/refined_stock_notebook.ipynb#W3sZmlsZQ%3D%3D?line=3'>4</a>\u001b[0m \u001b[39mfor\u001b[39;00m period \u001b[39min\u001b[39;00m periods:\n\u001b[1;32m----> <a href='vscode-notebook-cell:/c%3A/Users/boetr/Desktop/Programeren/refined_stock_notebook.ipynb#W3sZmlsZQ%3D%3D?line=4'>5</a>\u001b[0m     data \u001b[39m=\u001b[39m yf\u001b[39m.\u001b[39;49mdownload(stock, period\u001b[39m=\u001b[39;49mperiod, group_by\u001b[39m=\u001b[39;49m\u001b[39m'\u001b[39;49m\u001b[39mticker\u001b[39;49m\u001b[39m'\u001b[39;49m, progress\u001b[39m=\u001b[39;49m\u001b[39mFalse\u001b[39;49;00m)\n\u001b[0;32m      <a href='vscode-notebook-cell:/c%3A/Users/boetr/Desktop/Programeren/refined_stock_notebook.ipynb#W3sZmlsZQ%3D%3D?line=5'>6</a>\u001b[0m     data_dict[period] \u001b[39m=\u001b[39m data\n\u001b[0;32m      <a href='vscode-notebook-cell:/c%3A/Users/boetr/Desktop/Programeren/refined_stock_notebook.ipynb#W3sZmlsZQ%3D%3D?line=6'>7</a>\u001b[0m \u001b[39mreturn\u001b[39;00m data_dict\n",
      "File \u001b[1;32m~\\AppData\\Local\\Packages\\PythonSoftwareFoundation.Python.3.11_qbz5n2kfra8p0\\LocalCache\\local-packages\\Python311\\site-packages\\yfinance\\utils.py:114\u001b[0m, in \u001b[0;36mlog_indent_decorator.<locals>.wrapper\u001b[1;34m(*args, **kwargs)\u001b[0m\n\u001b[0;32m    111\u001b[0m logger\u001b[39m.\u001b[39mdebug(\u001b[39mf\u001b[39m\u001b[39m'\u001b[39m\u001b[39mEntering \u001b[39m\u001b[39m{\u001b[39;00mfunc\u001b[39m.\u001b[39m\u001b[39m__name__\u001b[39m\u001b[39m}\u001b[39;00m\u001b[39m()\u001b[39m\u001b[39m'\u001b[39m)\n\u001b[0;32m    113\u001b[0m \u001b[39mwith\u001b[39;00m IndentationContext():\n\u001b[1;32m--> 114\u001b[0m     result \u001b[39m=\u001b[39m func(\u001b[39m*\u001b[39;49margs, \u001b[39m*\u001b[39;49m\u001b[39m*\u001b[39;49mkwargs)\n\u001b[0;32m    116\u001b[0m logger\u001b[39m.\u001b[39mdebug(\u001b[39mf\u001b[39m\u001b[39m'\u001b[39m\u001b[39mExiting \u001b[39m\u001b[39m{\u001b[39;00mfunc\u001b[39m.\u001b[39m\u001b[39m__name__\u001b[39m\u001b[39m}\u001b[39;00m\u001b[39m()\u001b[39m\u001b[39m'\u001b[39m)\n\u001b[0;32m    117\u001b[0m \u001b[39mreturn\u001b[39;00m result\n",
      "File \u001b[1;32m~\\AppData\\Local\\Packages\\PythonSoftwareFoundation.Python.3.11_qbz5n2kfra8p0\\LocalCache\\local-packages\\Python311\\site-packages\\yfinance\\multi.py:159\u001b[0m, in \u001b[0;36mdownload\u001b[1;34m(tickers, start, end, actions, threads, ignore_tz, group_by, auto_adjust, back_adjust, repair, keepna, progress, period, show_errors, interval, prepost, proxy, rounding, timeout, session)\u001b[0m\n\u001b[0;32m    152\u001b[0m         _download_one_threaded(ticker, period\u001b[39m=\u001b[39mperiod, interval\u001b[39m=\u001b[39minterval,\n\u001b[0;32m    153\u001b[0m                                start\u001b[39m=\u001b[39mstart, end\u001b[39m=\u001b[39mend, prepost\u001b[39m=\u001b[39mprepost,\n\u001b[0;32m    154\u001b[0m                                actions\u001b[39m=\u001b[39mactions, auto_adjust\u001b[39m=\u001b[39mauto_adjust,\n\u001b[0;32m    155\u001b[0m                                back_adjust\u001b[39m=\u001b[39mback_adjust, repair\u001b[39m=\u001b[39mrepair, keepna\u001b[39m=\u001b[39mkeepna,\n\u001b[0;32m    156\u001b[0m                                progress\u001b[39m=\u001b[39m(progress \u001b[39mand\u001b[39;00m i \u001b[39m>\u001b[39m \u001b[39m0\u001b[39m), proxy\u001b[39m=\u001b[39mproxy,\n\u001b[0;32m    157\u001b[0m                                rounding\u001b[39m=\u001b[39mrounding, timeout\u001b[39m=\u001b[39mtimeout, session\u001b[39m=\u001b[39msession)\n\u001b[0;32m    158\u001b[0m     \u001b[39mwhile\u001b[39;00m \u001b[39mlen\u001b[39m(shared\u001b[39m.\u001b[39m_DFS) \u001b[39m<\u001b[39m \u001b[39mlen\u001b[39m(tickers):\n\u001b[1;32m--> 159\u001b[0m         _time\u001b[39m.\u001b[39msleep(\u001b[39m0.01\u001b[39m)\n\u001b[0;32m    160\u001b[0m \u001b[39m# download synchronously\u001b[39;00m\n\u001b[0;32m    161\u001b[0m \u001b[39melse\u001b[39;00m:\n\u001b[0;32m    162\u001b[0m     \u001b[39mfor\u001b[39;00m i, ticker \u001b[39min\u001b[39;00m \u001b[39menumerate\u001b[39m(tickers):\n",
      "\u001b[1;31mKeyboardInterrupt\u001b[0m: "
     ]
    }
   ],
   "source": [
    "\n",
    "if __name__ == \"__main__\":\n",
    "    uranium_stocks = [\n",
    "        \"CCJ\", \"UUUU\", \"URG\", \"UEC\", \"DNN\", \"UROY\", \"LEU\", \"WWR\", \"NXE\", \"UWEFF\", \"AZZUF\", \"BKYI\", \"FCUUF\", \"GVXXF\", \"PALAF\"\n",
    "    ]\n",
    "\n",
    "    data_dicts = {}\n",
    "    for stock in tqdm(uranium_stocks, desc=\"Fetching stock data\"):\n",
    "        data_dicts[stock] = fetch_uranium_stocks_data(stock)\n",
    "\n",
    "    fig = plot_refined_single_stock_period(data_dicts, uranium_stocks)\n",
    "    fig.show()\n"
   ]
  }
 ],
 "metadata": {
  "kernelspec": {
   "display_name": "Python 3",
   "language": "python",
   "name": "python3"
  },
  "language_info": {
   "codemirror_mode": {
    "name": "ipython",
    "version": 3
   },
   "file_extension": ".py",
   "mimetype": "text/x-python",
   "name": "python",
   "nbconvert_exporter": "python",
   "pygments_lexer": "ipython3",
   "version": "3.11.5"
  }
 },
 "nbformat": 4,
 "nbformat_minor": 5
}
