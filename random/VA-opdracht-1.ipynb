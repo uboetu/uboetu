{
 "cells": [
  {
   "cell_type": "markdown",
   "metadata": {},
   "source": [
    "# VA 2023-2024 sem-1 Opdracht 1"
   ]
  },
  {
   "cell_type": "markdown",
   "metadata": {},
   "source": [
    "Vul hier je naam in en de naam van je groepsgenoot: "
   ]
  },
  {
   "cell_type": "markdown",
   "metadata": {},
   "source": [
    "## Deadline"
   ]
  },
  {
   "cell_type": "markdown",
   "metadata": {},
   "source": [
    "De deadline voor deze opdracht is: 06 september 09:59\n",
    "\n",
    "We maken eerst gebruik van matplotlib. Hier kan je snel makkelijke plots mee maken. Ook gaan we aan het eind  gebruik maken van Seaborn. Dit werkt ietsje anders, maar kan je wel nog mooiere plots mee maken."
   ]
  },
  {
   "cell_type": "markdown",
   "metadata": {},
   "source": [
    "## Deel 1 - Schaatsen"
   ]
  },
  {
   "cell_type": "markdown",
   "metadata": {},
   "source": [
    "We gaan kijken naar de 500m meter tijden van de broers Ronald en Michel Mulder geschaatst in Thialf (bron:osta.nl). De dataset is te vinden op BrightSpace. Zorg dat deze dataset zich in dezelfde map als deze notebook zit. Ter voorbereiding op een visualisatie nemen we de volgende stappen.\n",
    "* We laden de package `pandas` in en noemen het `pd`.\n",
    "* We gebruiken de functie `head` om de eerste vijf regels uit de dataset te bekijken.\n",
    "* We gebruiken de functie `info` om de structuur van de dataset te bekijken.\n",
    "* We gebruiken de functie `describe` om de statische waarden te bekijken."
   ]
  },
  {
   "cell_type": "code",
   "execution_count": 1,
   "metadata": {},
   "outputs": [
    {
     "name": "stderr",
     "output_type": "stream",
     "text": [
      "C:\\Users\\boetr\\AppData\\Local\\Temp\\ipykernel_13812\\3949043643.py:4: UserWarning: Parsing dates in %d/%m/%Y format when dayfirst=False (the default) was specified. Pass `dayfirst=True` or specify a format to silence this warning.\n",
      "  schaatstijden['Datum'] = pd.to_datetime(schaatstijden['Datum'])\n"
     ]
    }
   ],
   "source": [
    "import sys\n",
    "import pandas as pd\n",
    "schaatstijden = pd.read_csv('Schaatstijden500m.csv')\n",
    "schaatstijden['Datum'] = pd.to_datetime(schaatstijden['Datum'])"
   ]
  },
  {
   "cell_type": "code",
   "execution_count": 2,
   "metadata": {},
   "outputs": [
    {
     "data": {
      "text/html": [
       "<div>\n",
       "<style scoped>\n",
       "    .dataframe tbody tr th:only-of-type {\n",
       "        vertical-align: middle;\n",
       "    }\n",
       "\n",
       "    .dataframe tbody tr th {\n",
       "        vertical-align: top;\n",
       "    }\n",
       "\n",
       "    .dataframe thead th {\n",
       "        text-align: right;\n",
       "    }\n",
       "</style>\n",
       "<table border=\"1\" class=\"dataframe\">\n",
       "  <thead>\n",
       "    <tr style=\"text-align: right;\">\n",
       "      <th></th>\n",
       "      <th>Tijd</th>\n",
       "      <th>Datum</th>\n",
       "      <th>Ijsbaan</th>\n",
       "      <th>Rijder</th>\n",
       "    </tr>\n",
       "  </thead>\n",
       "  <tbody>\n",
       "    <tr>\n",
       "      <th>0</th>\n",
       "      <td>89.80</td>\n",
       "      <td>2020-01-26</td>\n",
       "      <td>IJsstadion Thialf (NED)</td>\n",
       "      <td>Ronald</td>\n",
       "    </tr>\n",
       "    <tr>\n",
       "      <th>1</th>\n",
       "      <td>34.86</td>\n",
       "      <td>2020-01-25</td>\n",
       "      <td>IJsstadion Thialf (NED)</td>\n",
       "      <td>Ronald</td>\n",
       "    </tr>\n",
       "    <tr>\n",
       "      <th>2</th>\n",
       "      <td>34.92</td>\n",
       "      <td>2020-01-18</td>\n",
       "      <td>IJsstadion Thialf (NED)</td>\n",
       "      <td>Ronald</td>\n",
       "    </tr>\n",
       "    <tr>\n",
       "      <th>3</th>\n",
       "      <td>35.27</td>\n",
       "      <td>2019-12-27</td>\n",
       "      <td>IJsstadion Thialf (NED)</td>\n",
       "      <td>Michel</td>\n",
       "    </tr>\n",
       "    <tr>\n",
       "      <th>4</th>\n",
       "      <td>35.38</td>\n",
       "      <td>2019-12-27</td>\n",
       "      <td>IJsstadion Thialf (NED)</td>\n",
       "      <td>Ronald</td>\n",
       "    </tr>\n",
       "  </tbody>\n",
       "</table>\n",
       "</div>"
      ],
      "text/plain": [
       "    Tijd      Datum                  Ijsbaan  Rijder\n",
       "0  89.80 2020-01-26  IJsstadion Thialf (NED)  Ronald\n",
       "1  34.86 2020-01-25  IJsstadion Thialf (NED)  Ronald\n",
       "2  34.92 2020-01-18  IJsstadion Thialf (NED)  Ronald\n",
       "3  35.27 2019-12-27  IJsstadion Thialf (NED)  Michel\n",
       "4  35.38 2019-12-27  IJsstadion Thialf (NED)  Ronald"
      ]
     },
     "execution_count": 2,
     "metadata": {},
     "output_type": "execute_result"
    }
   ],
   "source": [
    "schaatstijden.head()"
   ]
  },
  {
   "cell_type": "code",
   "execution_count": 3,
   "metadata": {},
   "outputs": [
    {
     "name": "stdout",
     "output_type": "stream",
     "text": [
      "<class 'pandas.core.frame.DataFrame'>\n",
      "RangeIndex: 76 entries, 0 to 75\n",
      "Data columns (total 4 columns):\n",
      " #   Column   Non-Null Count  Dtype         \n",
      "---  ------   --------------  -----         \n",
      " 0   Tijd     76 non-null     float64       \n",
      " 1   Datum    76 non-null     datetime64[ns]\n",
      " 2   Ijsbaan  76 non-null     object        \n",
      " 3   Rijder   76 non-null     object        \n",
      "dtypes: datetime64[ns](1), float64(1), object(2)\n",
      "memory usage: 2.5+ KB\n"
     ]
    }
   ],
   "source": [
    "schaatstijden.info()"
   ]
  },
  {
   "cell_type": "code",
   "execution_count": 4,
   "metadata": {},
   "outputs": [
    {
     "data": {
      "text/html": [
       "<div>\n",
       "<style scoped>\n",
       "    .dataframe tbody tr th:only-of-type {\n",
       "        vertical-align: middle;\n",
       "    }\n",
       "\n",
       "    .dataframe tbody tr th {\n",
       "        vertical-align: top;\n",
       "    }\n",
       "\n",
       "    .dataframe thead th {\n",
       "        text-align: right;\n",
       "    }\n",
       "</style>\n",
       "<table border=\"1\" class=\"dataframe\">\n",
       "  <thead>\n",
       "    <tr style=\"text-align: right;\">\n",
       "      <th></th>\n",
       "      <th>Tijd</th>\n",
       "      <th>Datum</th>\n",
       "    </tr>\n",
       "  </thead>\n",
       "  <tbody>\n",
       "    <tr>\n",
       "      <th>count</th>\n",
       "      <td>76.000000</td>\n",
       "      <td>76</td>\n",
       "    </tr>\n",
       "    <tr>\n",
       "      <th>mean</th>\n",
       "      <td>35.815263</td>\n",
       "      <td>2017-11-05 16:44:12.631578880</td>\n",
       "    </tr>\n",
       "    <tr>\n",
       "      <th>min</th>\n",
       "      <td>34.490000</td>\n",
       "      <td>2015-12-05 00:00:00</td>\n",
       "    </tr>\n",
       "    <tr>\n",
       "      <th>25%</th>\n",
       "      <td>34.917500</td>\n",
       "      <td>2016-09-12 18:00:00</td>\n",
       "    </tr>\n",
       "    <tr>\n",
       "      <th>50%</th>\n",
       "      <td>35.055000</td>\n",
       "      <td>2017-11-10 12:00:00</td>\n",
       "    </tr>\n",
       "    <tr>\n",
       "      <th>75%</th>\n",
       "      <td>35.272500</td>\n",
       "      <td>2019-01-02 12:00:00</td>\n",
       "    </tr>\n",
       "    <tr>\n",
       "      <th>max</th>\n",
       "      <td>89.800000</td>\n",
       "      <td>2020-01-26 00:00:00</td>\n",
       "    </tr>\n",
       "    <tr>\n",
       "      <th>std</th>\n",
       "      <td>6.280937</td>\n",
       "      <td>NaN</td>\n",
       "    </tr>\n",
       "  </tbody>\n",
       "</table>\n",
       "</div>"
      ],
      "text/plain": [
       "            Tijd                          Datum\n",
       "count  76.000000                             76\n",
       "mean   35.815263  2017-11-05 16:44:12.631578880\n",
       "min    34.490000            2015-12-05 00:00:00\n",
       "25%    34.917500            2016-09-12 18:00:00\n",
       "50%    35.055000            2017-11-10 12:00:00\n",
       "75%    35.272500            2019-01-02 12:00:00\n",
       "max    89.800000            2020-01-26 00:00:00\n",
       "std     6.280937                            NaN"
      ]
     },
     "execution_count": 4,
     "metadata": {},
     "output_type": "execute_result"
    }
   ],
   "source": [
    "schaatstijden.describe()"
   ]
  },
  {
   "cell_type": "markdown",
   "metadata": {},
   "source": [
    "## Onderdeel 1"
   ]
  },
  {
   "cell_type": "markdown",
   "metadata": {},
   "source": [
    "Kijk eens goed naar de tabellen hierboven en geef antwoord op de volgende vragen.\n",
    "* Hoeveel 500m tijden zitten er in de dataset?\n",
    "* Wat is de snelste tijd?"
   ]
  },
  {
   "cell_type": "markdown",
   "metadata": {},
   "source": [
    "#### Antwoord:\n",
    "* ant 1 76\n",
    "* ant 2 34.49"
   ]
  },
  {
   "cell_type": "markdown",
   "metadata": {},
   "source": [
    "## Onderdeel 2"
   ]
  },
  {
   "cell_type": "markdown",
   "metadata": {},
   "source": [
    "Maak een histogram van de kolom `Tijd`. Vul de code aan, voldoe aan de volgende extra eisen en pas verder geen dingen aan.\n",
    "* Kies de juiste kolom.\n",
    "* Maak de histogram geel.\n",
    "* Gebruik een geschikte titel.\n",
    "* Gebruik een geschikt x-as label.\n",
    "* Gebruik een geschikt y-as label."
   ]
  },
  {
   "cell_type": "code",
   "execution_count": 5,
   "metadata": {},
   "outputs": [],
   "source": [
    "import matplotlib.pyplot as plt"
   ]
  },
  {
   "cell_type": "code",
   "execution_count": 13,
   "metadata": {},
   "outputs": [
    {
     "data": {
      "image/png": "[encoded data removed]",
      "text/plain": [
       "<Figure size 640x480 with 1 Axes>"
      ]
     },
     "metadata": {},
     "output_type": "display_data"
    }
   ],
   "source": [
    "plt.hist(schaatstijden[\"Tijd\"], color='yellow')\n",
    "plt.title('Schaatstijden')\n",
    "plt.xlabel('# Rondjes')\n",
    "plt.ylabel('Rondetijnd (sec)')\n",
    "plt.show()"
   ]
  },
  {
   "cell_type": "markdown",
   "metadata": {},
   "source": [
    "Wellicht heb je het al gezien. Een van de broers is gevallen tijdens een rit. Dit resulteerde in tijd een stuk langzamer dan normaal. Filter deze tijd uit de dataset en maak de histogram nogmaals."
   ]
  },
  {
   "cell_type": "code",
   "execution_count": 9,
   "metadata": {},
   "outputs": [
    {
     "data": {
      "text/html": [
       "<div>\n",
       "<style scoped>\n",
       "    .dataframe tbody tr th:only-of-type {\n",
       "        vertical-align: middle;\n",
       "    }\n",
       "\n",
       "    .dataframe tbody tr th {\n",
       "        vertical-align: top;\n",
       "    }\n",
       "\n",
       "    .dataframe thead th {\n",
       "        text-align: right;\n",
       "    }\n",
       "</style>\n",
       "<table border=\"1\" class=\"dataframe\">\n",
       "  <thead>\n",
       "    <tr style=\"text-align: right;\">\n",
       "      <th></th>\n",
       "      <th>Tijd</th>\n",
       "      <th>Datum</th>\n",
       "    </tr>\n",
       "  </thead>\n",
       "  <tbody>\n",
       "    <tr>\n",
       "      <th>count</th>\n",
       "      <td>75.000000</td>\n",
       "      <td>75</td>\n",
       "    </tr>\n",
       "    <tr>\n",
       "      <th>mean</th>\n",
       "      <td>35.095467</td>\n",
       "      <td>2017-10-25 21:07:12</td>\n",
       "    </tr>\n",
       "    <tr>\n",
       "      <th>min</th>\n",
       "      <td>34.490000</td>\n",
       "      <td>2015-12-05 00:00:00</td>\n",
       "    </tr>\n",
       "    <tr>\n",
       "      <th>25%</th>\n",
       "      <td>34.915000</td>\n",
       "      <td>2016-07-13 12:00:00</td>\n",
       "    </tr>\n",
       "    <tr>\n",
       "      <th>50%</th>\n",
       "      <td>35.050000</td>\n",
       "      <td>2017-11-10 00:00:00</td>\n",
       "    </tr>\n",
       "    <tr>\n",
       "      <th>75%</th>\n",
       "      <td>35.265000</td>\n",
       "      <td>2018-12-28 00:00:00</td>\n",
       "    </tr>\n",
       "    <tr>\n",
       "      <th>max</th>\n",
       "      <td>35.720000</td>\n",
       "      <td>2020-01-25 00:00:00</td>\n",
       "    </tr>\n",
       "    <tr>\n",
       "      <th>std</th>\n",
       "      <td>0.273937</td>\n",
       "      <td>NaN</td>\n",
       "    </tr>\n",
       "  </tbody>\n",
       "</table>\n",
       "</div>"
      ],
      "text/plain": [
       "            Tijd                Datum\n",
       "count  75.000000                   75\n",
       "mean   35.095467  2017-10-25 21:07:12\n",
       "min    34.490000  2015-12-05 00:00:00\n",
       "25%    34.915000  2016-07-13 12:00:00\n",
       "50%    35.050000  2017-11-10 00:00:00\n",
       "75%    35.265000  2018-12-28 00:00:00\n",
       "max    35.720000  2020-01-25 00:00:00\n",
       "std     0.273937                  NaN"
      ]
     },
     "execution_count": 9,
     "metadata": {},
     "output_type": "execute_result"
    }
   ],
   "source": [
    "#Code om te filteren\n",
    "schaatstijden = schaatstijden[schaatstijden['Tijd'] != 89.8]\n",
    "schaatstijden.describe()"
   ]
  },
  {
   "cell_type": "code",
   "execution_count": 11,
   "metadata": {},
   "outputs": [
    {
     "data": {
      "text/plain": [
       "(array([ 2.,  3.,  8., 16., 13.,  9., 10.,  4.,  7.,  3.]),\n",
       " array([34.49 , 34.613, 34.736, 34.859, 34.982, 35.105, 35.228, 35.351,\n",
       "        35.474, 35.597, 35.72 ]),\n",
       " <BarContainer object of 10 artists>)"
      ]
     },
     "execution_count": 11,
     "metadata": {},
     "output_type": "execute_result"
    },
    {
     "data": {
      "image/png": "[encoded data removed]",
      "text/plain": [
       "<Figure size 640x480 with 1 Axes>"
      ]
     },
     "metadata": {},
     "output_type": "display_data"
    }
   ],
   "source": [
    "plt.hist(schaatstijden['Tijd'])"
   ]
  },
  {
   "cell_type": "markdown",
   "metadata": {},
   "source": [
    "## Onderdeel 3"
   ]
  },
  {
   "cell_type": "markdown",
   "metadata": {},
   "source": [
    "Voor de volgende analyse gaan we een boxplot maken. (gebruik de dataset zonder val) We willen een uitspraak doen welke broer sneller is op de 500m in Thialf. Maak een boxplot van de tijden van Ronald en een boxplot van de tijden van Michel. Voldoe aan de volgende eisen.\n",
    "* Voeg een lijn blauwe toe met het huidige baan record in thialf, 34,07\n",
    "* Gebruik een geschikte titel.\n",
    "* Gebruik een geschikt x-as label.\n",
    "* Gebruik een geschikt y-as label."
   ]
  },
  {
   "cell_type": "code",
   "execution_count": 34,
   "metadata": {},
   "outputs": [
    {
     "data": {
      "text/plain": [
       "{'Ronald': 1     34.86\n",
       " 2     34.92\n",
       " 4     35.38\n",
       " 6     34.91\n",
       " 10    35.00\n",
       " 12    34.94\n",
       " 14    34.78\n",
       " 18    34.87\n",
       " 20    34.60\n",
       " 22    34.95\n",
       " 24    35.14\n",
       " 26    35.22\n",
       " 29    34.67\n",
       " 30    35.02\n",
       " 34    34.49\n",
       " 36    34.74\n",
       " 37    34.85\n",
       " 38    34.99\n",
       " 40    34.69\n",
       " 42    35.06\n",
       " 44    35.00\n",
       " 46    34.98\n",
       " 48    35.08\n",
       " 49    34.87\n",
       " 51    34.83\n",
       " 53    34.81\n",
       " 57    34.81\n",
       " 58    35.05\n",
       " 60    34.80\n",
       " 62    34.89\n",
       " 64    35.25\n",
       " 66    34.92\n",
       " 69    34.95\n",
       " 70    35.11\n",
       " 72    35.30\n",
       " Name: Tijd, dtype: float64,\n",
       " 'Michel': 3     35.27\n",
       " 5     34.96\n",
       " 7     35.28\n",
       " 8     35.28\n",
       " 9     35.14\n",
       " 11    35.16\n",
       " 13    34.99\n",
       " 15    34.62\n",
       " 16    34.92\n",
       " 17    35.01\n",
       " 19    35.04\n",
       " 21    35.19\n",
       " 23    34.95\n",
       " 25    35.22\n",
       " 27    35.26\n",
       " 28    35.72\n",
       " 31    34.74\n",
       " 32    35.08\n",
       " 33    34.98\n",
       " 35    34.90\n",
       " 39    35.58\n",
       " 41    35.23\n",
       " 43    35.51\n",
       " 45    35.43\n",
       " 47    35.49\n",
       " 50    35.23\n",
       " 52    35.02\n",
       " 54    35.49\n",
       " 55    35.59\n",
       " 56    35.43\n",
       " 59    35.18\n",
       " 61    35.07\n",
       " 63    35.14\n",
       " 65    35.63\n",
       " 67    35.34\n",
       " 68    35.62\n",
       " 71    35.54\n",
       " 73    35.47\n",
       " 74    35.48\n",
       " 75    35.25\n",
       " Name: Tijd, dtype: float64}"
      ]
     },
     "execution_count": 34,
     "metadata": {},
     "output_type": "execute_result"
    }
   ],
   "source": [
    "schaatstijdenBoxplotData = {'Ronald': schaatstijden[schaatstijden['Rijder'] == 'Ronald']['Tijd'],\n",
    "                            'Michel': schaatstijden[schaatstijden['Rijder'] == 'Michel']['Tijd']}\n",
    "\n"
   ]
  },
  {
   "cell_type": "code",
   "execution_count": 15,
   "metadata": {
    "scrolled": true
   },
   "outputs": [
    {
     "data": {
      "text/plain": [
       "count    35.000000\n",
       "mean     34.935143\n",
       "std       0.191194\n",
       "min      34.490000\n",
       "25%      34.820000\n",
       "50%      34.920000\n",
       "75%      35.035000\n",
       "max      35.380000\n",
       "Name: Tijd, dtype: float64"
      ]
     },
     "execution_count": 15,
     "metadata": {},
     "output_type": "execute_result"
    }
   ],
   "source": [
    "schaatstijdenBoxplotData['Ronald'].describe()"
   ]
  },
  {
   "cell_type": "code",
   "execution_count": 16,
   "metadata": {},
   "outputs": [
    {
     "data": {
      "text/plain": [
       "count    40.000000\n",
       "mean     35.235750\n",
       "std       0.259357\n",
       "min      34.620000\n",
       "25%      35.035000\n",
       "50%      35.230000\n",
       "75%      35.472500\n",
       "max      35.720000\n",
       "Name: Tijd, dtype: float64"
      ]
     },
     "execution_count": 16,
     "metadata": {},
     "output_type": "execute_result"
    }
   ],
   "source": [
    "schaatstijdenBoxplotData['Michel'].describe()"
   ]
  },
  {
   "cell_type": "code",
   "execution_count": 27,
   "metadata": {},
   "outputs": [
    {
     "data": {
      "image/png": "[encoded data removed]",
      "text/plain": [
       "<Figure size 640x480 with 1 Axes>"
      ]
     },
     "metadata": {},
     "output_type": "display_data"
    }
   ],
   "source": [
    "#code voor boxplot\n",
    "\n",
    "fig, ax = plt.subplots()\n",
    "\n",
    "ax.boxplot([schaatstijdenBoxplotData['Ronald'], schaatstijdenBoxplotData['Michel']])\n",
    "\n",
    "# Add x-axis tick labels:\n",
    "ax.set_ylabel(\"Tijd (sec)\")\n",
    "\n",
    "# Add a y-axis label\n",
    "\n",
    "name_list = ['Ronald', 'Michel']\n",
    "ax.set_xticklabels(['Ronald', 'Michel'])\n",
    "\n",
    "baan_record = 34.07\n",
    "ax.axhline(y=baan_record, color='blue', linestyle='--', label='Baanrecord (34.07 sec)')\n",
    "ax.legend()\n",
    "\n",
    "plt.title('Rondetijden Ronald vs Michel')\n",
    "plt.show()"
   ]
  },
  {
   "cell_type": "markdown",
   "metadata": {},
   "source": [
    "## Onderdeel 4"
   ]
  },
  {
   "cell_type": "markdown",
   "metadata": {},
   "source": [
    "Deze vraag gaat over visualisatie gemaakt bij onderdeel 3. Doe een uitspraak over de welke broer het snelst is. Gebruik een maat voor locatie en voor spreiding in je antwoord."
   ]
  },
  {
   "cell_type": "markdown",
   "metadata": {},
   "source": [
    "#### Antwoord Ronald is gemiddeld sneller dat zien we aan de mediaan en de verdeling van de tijd die lager ligt\n"
   ]
  },
  {
   "cell_type": "markdown",
   "metadata": {},
   "source": [
    "## Onderdeel 5"
   ]
  },
  {
   "cell_type": "markdown",
   "metadata": {},
   "source": [
    "De broers hebben tijdens een aantal wedstrijden tegen elkaar gereden (niet uitsluitend in dezelfde rit). Ook deze data staat op BrightSpace, we laden de data in en berekenen het verschil van het onderlinge resultaat."
   ]
  },
  {
   "cell_type": "code",
   "execution_count": 28,
   "metadata": {},
   "outputs": [
    {
     "name": "stderr",
     "output_type": "stream",
     "text": [
      "C:\\Users\\boetr\\AppData\\Local\\Temp\\ipykernel_13812\\2446715650.py:2: UserWarning: Parsing dates in %d/%m/%Y format when dayfirst=False (the default) was specified. Pass `dayfirst=True` or specify a format to silence this warning.\n",
      "  schaatstijdenVerschil['Datum'] = pd.to_datetime(schaatstijdenVerschil['Datum'])\n"
     ]
    }
   ],
   "source": [
    "schaatstijdenVerschil = pd.read_csv('Schaatstijden500m verschil.csv')\n",
    "schaatstijdenVerschil['Datum'] = pd.to_datetime(schaatstijdenVerschil['Datum'])"
   ]
  },
  {
   "cell_type": "code",
   "execution_count": 29,
   "metadata": {},
   "outputs": [],
   "source": [
    "schaatstijdenVerschil['Verschil'] = schaatstijdenVerschil['Ronald'] - schaatstijdenVerschil['Michel']"
   ]
  },
  {
   "cell_type": "code",
   "execution_count": 32,
   "metadata": {},
   "outputs": [
    {
     "data": {
      "text/html": [
       "<div>\n",
       "<style scoped>\n",
       "    .dataframe tbody tr th:only-of-type {\n",
       "        vertical-align: middle;\n",
       "    }\n",
       "\n",
       "    .dataframe tbody tr th {\n",
       "        vertical-align: top;\n",
       "    }\n",
       "\n",
       "    .dataframe thead th {\n",
       "        text-align: right;\n",
       "    }\n",
       "</style>\n",
       "<table border=\"1\" class=\"dataframe\">\n",
       "  <thead>\n",
       "    <tr style=\"text-align: right;\">\n",
       "      <th></th>\n",
       "      <th>Datum</th>\n",
       "      <th>Michel</th>\n",
       "      <th>Ronald</th>\n",
       "      <th>Verschil</th>\n",
       "    </tr>\n",
       "  </thead>\n",
       "  <tbody>\n",
       "    <tr>\n",
       "      <th>count</th>\n",
       "      <td>26</td>\n",
       "      <td>26.000000</td>\n",
       "      <td>26.000000</td>\n",
       "      <td>26.000000</td>\n",
       "    </tr>\n",
       "    <tr>\n",
       "      <th>mean</th>\n",
       "      <td>2017-11-01 11:04:36.923076864</td>\n",
       "      <td>35.232692</td>\n",
       "      <td>34.933846</td>\n",
       "      <td>-0.298846</td>\n",
       "    </tr>\n",
       "    <tr>\n",
       "      <th>min</th>\n",
       "      <td>2015-12-21 00:00:00</td>\n",
       "      <td>34.900000</td>\n",
       "      <td>34.490000</td>\n",
       "      <td>-1.050000</td>\n",
       "    </tr>\n",
       "    <tr>\n",
       "      <th>25%</th>\n",
       "      <td>2016-05-16 18:00:00</td>\n",
       "      <td>35.025000</td>\n",
       "      <td>34.802500</td>\n",
       "      <td>-0.447500</td>\n",
       "    </tr>\n",
       "    <tr>\n",
       "      <th>50%</th>\n",
       "      <td>2017-11-24 12:00:00</td>\n",
       "      <td>35.185000</td>\n",
       "      <td>34.930000</td>\n",
       "      <td>-0.230000</td>\n",
       "    </tr>\n",
       "    <tr>\n",
       "      <th>75%</th>\n",
       "      <td>2018-12-26 12:00:00</td>\n",
       "      <td>35.407500</td>\n",
       "      <td>35.045000</td>\n",
       "      <td>-0.145000</td>\n",
       "    </tr>\n",
       "    <tr>\n",
       "      <th>max</th>\n",
       "      <td>2019-12-27 00:00:00</td>\n",
       "      <td>35.720000</td>\n",
       "      <td>35.380000</td>\n",
       "      <td>0.190000</td>\n",
       "    </tr>\n",
       "    <tr>\n",
       "      <th>std</th>\n",
       "      <td>NaN</td>\n",
       "      <td>0.241869</td>\n",
       "      <td>0.215909</td>\n",
       "      <td>0.291909</td>\n",
       "    </tr>\n",
       "  </tbody>\n",
       "</table>\n",
       "</div>"
      ],
      "text/plain": [
       "                               Datum     Michel     Ronald   Verschil\n",
       "count                             26  26.000000  26.000000  26.000000\n",
       "mean   2017-11-01 11:04:36.923076864  35.232692  34.933846  -0.298846\n",
       "min              2015-12-21 00:00:00  34.900000  34.490000  -1.050000\n",
       "25%              2016-05-16 18:00:00  35.025000  34.802500  -0.447500\n",
       "50%              2017-11-24 12:00:00  35.185000  34.930000  -0.230000\n",
       "75%              2018-12-26 12:00:00  35.407500  35.045000  -0.145000\n",
       "max              2019-12-27 00:00:00  35.720000  35.380000   0.190000\n",
       "std                              NaN   0.241869   0.215909   0.291909"
      ]
     },
     "execution_count": 32,
     "metadata": {},
     "output_type": "execute_result"
    }
   ],
   "source": [
    "schaatstijdenVerschil.head()\n"
   ]
  },
  {
   "cell_type": "markdown",
   "metadata": {},
   "source": [
    "Maakt een histogram van het verschil tussen de broers."
   ]
  },
  {
   "cell_type": "code",
   "execution_count": 31,
   "metadata": {},
   "outputs": [
    {
     "data": {
      "text/plain": [
       "(array([1., 1., 1., 0., 5., 3., 5., 5., 2., 3.]),\n",
       " array([-1.05 , -0.926, -0.802, -0.678, -0.554, -0.43 , -0.306, -0.182,\n",
       "        -0.058,  0.066,  0.19 ]),\n",
       " <BarContainer object of 10 artists>)"
      ]
     },
     "execution_count": 31,
     "metadata": {},
     "output_type": "execute_result"
    },
    {
     "data": {
      "image/png": "[encoded data removed]",
      "text/plain": [
       "<Figure size 640x480 with 1 Axes>"
      ]
     },
     "metadata": {},
     "output_type": "display_data"
    }
   ],
   "source": [
    "plt.hist(schaatstijdenVerschil['Verschil'])"
   ]
  },
  {
   "cell_type": "markdown",
   "metadata": {},
   "source": [
    "## Onderdeel 6"
   ]
  },
  {
   "cell_type": "markdown",
   "metadata": {},
   "source": [
    "Deze vraag gaat over visualisatie gemaakt bij onderdeel 5. Doe een uitspraak over de welke broer het snelst is. Gebruik een maat voor locatie en voor spreiding in je antwoord."
   ]
  },
  {
   "cell_type": "markdown",
   "metadata": {},
   "source": [
    "#### Antwoord Ronald is sneller dan Michel, en zijn tijden hebben minder spreiding.\n"
   ]
  },
  {
   "cell_type": "markdown",
   "metadata": {},
   "source": [
    "## Onderdeel 7"
   ]
  },
  {
   "cell_type": "markdown",
   "metadata": {},
   "source": [
    "Deze meer geavanceerde visualisatie gaat over het verloop van de tijden over de jaren. Maak een dataframe van schaatstijdenVerschil met de gemiddelde 500m tijd per broer per jaar (mocht je over de skills beschikken, dan mag het ook per schaatsseizoen september t/m maart)."
   ]
  },
  {
   "cell_type": "code",
   "execution_count": 100,
   "metadata": {},
   "outputs": [
    {
     "name": "stdout",
     "output_type": "stream",
     "text": [
      "                    Ijsbaan  Michel  Ronald  Verschil             Season  \\\n",
      "20  IJsstadion Thialf (NED)   35.62   35.11     -0.51  Seizoen 2015-2016   \n",
      "14  IJsstadion Thialf (NED)   35.34   34.95     -0.39  Seizoen 2015-2016   \n",
      "24  IJsstadion Thialf (NED)   35.54   35.30     -0.24  Seizoen 2015-2016   \n",
      "12  IJsstadion Thialf (NED)   35.63   34.92     -0.71  Seizoen 2016-2017   \n",
      "23  IJsstadion Thialf (NED)   35.14   35.25      0.11  Seizoen 2016-2017   \n",
      "6   IJsstadion Thialf (NED)   35.18   34.80     -0.38  Seizoen 2016-2017   \n",
      "7   IJsstadion Thialf (NED)   35.02   34.81     -0.21  Seizoen 2016-2017   \n",
      "8   IJsstadion Thialf (NED)   35.23   34.83     -0.40  Seizoen 2016-2017   \n",
      "10  IJsstadion Thialf (NED)   35.07   34.89     -0.18  Seizoen 2016-2017   \n",
      "19  IJsstadion Thialf (NED)   35.23   35.06     -0.17  Seizoen 2017-2018   \n",
      "17  IJsstadion Thialf (NED)   35.51   35.00     -0.51  Seizoen 2017-2018   \n",
      "16  IJsstadion Thialf (NED)   35.43   34.98     -0.45  Seizoen 2017-2018   \n",
      "0   IJsstadion Thialf (NED)   34.98   34.49     -0.49  Seizoen 2017-2018   \n",
      "4   IJsstadion Thialf (NED)   34.90   34.74     -0.16  Seizoen 2017-2018   \n",
      "3   IJsstadion Thialf (NED)   35.58   34.69     -0.89  Seizoen 2017-2018   \n",
      "15  IJsstadion Thialf (NED)   35.19   34.95     -0.24  Seizoen 2018-2019   \n",
      "2   IJsstadion Thialf (NED)   35.72   34.67     -1.05  Seizoen 2018-2019   \n",
      "21  IJsstadion Thialf (NED)   34.95   35.14      0.19  Seizoen 2018-2019   \n",
      "22  IJsstadion Thialf (NED)   35.22   35.22      0.00  Seizoen 2018-2019   \n",
      "1   IJsstadion Thialf (NED)   35.04   34.60     -0.44  Seizoen 2018-2019   \n",
      "13  IJsstadion Thialf (NED)   35.16   34.94     -0.22  Seizoen 2019-2020   \n",
      "9   IJsstadion Thialf (NED)   35.01   34.87     -0.14  Seizoen 2019-2020   \n",
      "5   IJsstadion Thialf (NED)   34.99   34.78     -0.21  Seizoen 2019-2020   \n",
      "18  IJsstadion Thialf (NED)   35.14   35.00     -0.14  Seizoen 2019-2020   \n",
      "11  IJsstadion Thialf (NED)   34.96   34.91     -0.05  Seizoen 2019-2020   \n",
      "25  IJsstadion Thialf (NED)   35.27   35.38      0.11  Seizoen 2019-2020   \n",
      "\n",
      "      StartYear            Seizoen  \n",
      "20  Season 2015  Seizoen 2015-2016  \n",
      "14  Season 2015  Seizoen 2015-2016  \n",
      "24  Season 2015  Seizoen 2015-2016  \n",
      "12  Season 2016  Seizoen 2016-2017  \n",
      "23  Season 2016  Seizoen 2016-2017  \n",
      "6   Season 2016  Seizoen 2016-2017  \n",
      "7   Season 2016  Seizoen 2016-2017  \n",
      "8   Season 2016  Seizoen 2016-2017  \n",
      "10  Season 2016  Seizoen 2016-2017  \n",
      "19  Season 2017  Seizoen 2017-2018  \n",
      "17  Season 2017  Seizoen 2017-2018  \n",
      "16  Season 2017  Seizoen 2017-2018  \n",
      "0   Season 2017  Seizoen 2017-2018  \n",
      "4   Season 2017  Seizoen 2017-2018  \n",
      "3   Season 2017  Seizoen 2017-2018  \n",
      "15  Season 2018  Seizoen 2018-2019  \n",
      "2   Season 2018  Seizoen 2018-2019  \n",
      "21  Season 2018  Seizoen 2018-2019  \n",
      "22  Season 2018  Seizoen 2018-2019  \n",
      "1   Season 2018  Seizoen 2018-2019  \n",
      "13  Season 2019  Seizoen 2019-2020  \n",
      "9   Season 2019  Seizoen 2019-2020  \n",
      "5   Season 2019  Seizoen 2019-2020  \n",
      "18  Season 2019  Seizoen 2019-2020  \n",
      "11  Season 2019  Seizoen 2019-2020  \n",
      "25  Season 2019  Seizoen 2019-2020  \n"
     ]
    }
   ],
   "source": [
    "#code om gemiddelde per jaar te berekenen\n",
    "df = schaatstijdenVerschil\n",
    "\n",
    "\n",
    "def get_ice_skating_season(date):\n",
    "    year = date.year\n",
    "    if date.month >= 9 or date.month <= 3:\n",
    "        return f'Seizoen {year}-{year + 1}'\n",
    "    else:\n",
    "        return f'Seizoen {year - 1}-{year}'\n",
    "\n",
    "df['Seizoen'] = df['Datum'].apply(get_ice_skating_season)\n",
    "df = df.drop('Datum', axis=1)\n",
    "\n",
    "df = df.sort_values(by='Seizoen')\n",
    "\n",
    "print(df)"
   ]
  },
  {
   "cell_type": "code",
   "execution_count": 101,
   "metadata": {},
   "outputs": [
    {
     "data": {
      "image/png": "[encoded data removed]",
      "text/plain": [
       "<Figure size 1200x600 with 1 Axes>"
      ]
     },
     "metadata": {},
     "output_type": "display_data"
    }
   ],
   "source": [
    "import matplotlib.pyplot as plt\n",
    "\n",
    "\n",
    "seasonal_average = schaatstijdenVerschil.groupby('Season')[['Ronald', 'Michel']].mean()\n",
    "\n",
    "plt.figure(figsize=(12, 6))\n",
    "plt.plot(seasonal_average.index, seasonal_average['Ronald'], label='Ronald', marker='o')\n",
    "plt.plot(seasonal_average.index, seasonal_average['Michel'], label='Michel', marker='o')\n",
    "\n",
    "plt.ylabel('Gemiddelde Tijd')\n",
    "plt.title('Gemiddeld Tijds Verschil - Ronald vs. Michel')\n",
    "\n",
    "# Customize the x-axis to show only years\n",
    "plt.xticks(seasonal_average.index, [season for season in seasonal_average.index], rotation=45)\n",
    "\n",
    "# Add a legend\n",
    "plt.legend()\n",
    "\n",
    "# Show the plot\n",
    "plt.grid(True)\n",
    "plt.tight_layout()\n",
    "plt.show()\n",
    "\n",
    "\n"
   ]
  },
  {
   "cell_type": "markdown",
   "metadata": {},
   "source": [
    "Maak een lijndiagram met op de x-as het jaar en op de y-as de gemiddelde tijd per jaar. Geef een lijn per broer weer. Geef de visualisatie geschikte titels en een legenda."
   ]
  },
  {
   "cell_type": "markdown",
   "metadata": {},
   "source": [
    "# Deel 2 - Seaborn package"
   ]
  },
  {
   "cell_type": "markdown",
   "metadata": {},
   "source": [
    "### Voorbeeld"
   ]
  },
  {
   "cell_type": "markdown",
   "metadata": {},
   "source": [
    "We gaan voor de laatste twee onderdelen gebruik maken van een andere package: Seaborn. Hier kan je redelijk makkelijk mooie plots maken. Het werkt wel net wat anders qua input en output. In de volgende twee onderdelen lopen we hier met je doorheen, zodat je volgende week bij de case visualisaties kan maken met Seaborn.\n",
    "\n",
    "Mocht je bij het importeren een foutmelding krijgen, dan heb je waarschijnlijk nog niet de package geinstalleerd. Dit kan je doen door het hekje voor het eerste stukje code weg te halen."
   ]
  },
  {
   "cell_type": "code",
   "execution_count": 65,
   "metadata": {},
   "outputs": [],
   "source": [
    "#!conda install --yes --prefix {sys.prefix} numpy\n",
    "import seaborn as sns"
   ]
  },
  {
   "cell_type": "markdown",
   "metadata": {},
   "source": [
    "We gaan nu een histogram maken met een simpel voorbeeld (waarbij we andere data inladen). Een histogram maak je als volgt. Zie ook de voorbeelden: https://seaborn.pydata.org/generated/seaborn.histplot.html"
   ]
  },
  {
   "cell_type": "code",
   "execution_count": 68,
   "metadata": {},
   "outputs": [
    {
     "name": "stderr",
     "output_type": "stream",
     "text": [
      "C:\\Users\\boetr\\AppData\\Local\\Packages\\PythonSoftwareFoundation.Python.3.11_qbz5n2kfra8p0\\LocalCache\\local-packages\\Python311\\site-packages\\seaborn\\_oldcore.py:1498: FutureWarning: is_categorical_dtype is deprecated and will be removed in a future version. Use isinstance(dtype, CategoricalDtype) instead\n",
      "  if pd.api.types.is_categorical_dtype(vector):\n",
      "C:\\Users\\boetr\\AppData\\Local\\Packages\\PythonSoftwareFoundation.Python.3.11_qbz5n2kfra8p0\\LocalCache\\local-packages\\Python311\\site-packages\\seaborn\\_oldcore.py:1119: FutureWarning: use_inf_as_na option is deprecated and will be removed in a future version. Convert inf values to NaN before operating instead.\n",
      "  with pd.option_context('mode.use_inf_as_na', True):\n"
     ]
    },
    {
     "data": {
      "text/plain": [
       "<Axes: xlabel='flipper_length_mm', ylabel='Count'>"
      ]
     },
     "execution_count": 68,
     "metadata": {},
     "output_type": "execute_result"
    },
    {
     "data": {
      "image/png": "[encoded data removed]",
      "text/plain": [
       "<Figure size 640x480 with 1 Axes>"
      ]
     },
     "metadata": {},
     "output_type": "display_data"
    }
   ],
   "source": [
    "penguins = sns.load_dataset(\"penguins\")\n",
    "sns.histplot(data=penguins, x=\"flipper_length_mm\")\n"
   ]
  },
  {
   "cell_type": "markdown",
   "metadata": {},
   "source": [
    "## Onderdeel 8\n",
    "Zorg nu dat je een histogram maakt voor de schaatstijden! waarbij op de x-as de tijden staan."
   ]
  },
  {
   "cell_type": "code",
   "execution_count": 84,
   "metadata": {},
   "outputs": [
    {
     "name": "stderr",
     "output_type": "stream",
     "text": [
      "C:\\Users\\boetr\\AppData\\Local\\Packages\\PythonSoftwareFoundation.Python.3.11_qbz5n2kfra8p0\\LocalCache\\local-packages\\Python311\\site-packages\\seaborn\\_oldcore.py:1498: FutureWarning: is_categorical_dtype is deprecated and will be removed in a future version. Use isinstance(dtype, CategoricalDtype) instead\n",
      "  if pd.api.types.is_categorical_dtype(vector):\n",
      "C:\\Users\\boetr\\AppData\\Local\\Packages\\PythonSoftwareFoundation.Python.3.11_qbz5n2kfra8p0\\LocalCache\\local-packages\\Python311\\site-packages\\seaborn\\_oldcore.py:1119: FutureWarning: use_inf_as_na option is deprecated and will be removed in a future version. Convert inf values to NaN before operating instead.\n",
      "  with pd.option_context('mode.use_inf_as_na', True):\n"
     ]
    },
    {
     "data": {
      "text/plain": [
       "<Axes: xlabel='Tijd', ylabel='Count'>"
      ]
     },
     "execution_count": 84,
     "metadata": {},
     "output_type": "execute_result"
    },
    {
     "data": {
      "image/png": "[encoded data removed]",
      "text/plain": [
       "<Figure size 640x480 with 1 Axes>"
      ]
     },
     "metadata": {},
     "output_type": "display_data"
    }
   ],
   "source": [
    "sns.histplot(data=schaatstijden , x=\"Tijd\")\n"
   ]
  },
  {
   "cell_type": "markdown",
   "metadata": {},
   "source": [
    "Maak een histogram waarbij je voor de verschillende schaatsers (Ronald, Michel) een andere kleur geeft. "
   ]
  },
  {
   "cell_type": "code",
   "execution_count": 83,
   "metadata": {},
   "outputs": [
    {
     "name": "stderr",
     "output_type": "stream",
     "text": [
      "C:\\Users\\boetr\\AppData\\Local\\Packages\\PythonSoftwareFoundation.Python.3.11_qbz5n2kfra8p0\\LocalCache\\local-packages\\Python311\\site-packages\\seaborn\\_oldcore.py:1498: FutureWarning: is_categorical_dtype is deprecated and will be removed in a future version. Use isinstance(dtype, CategoricalDtype) instead\n",
      "  if pd.api.types.is_categorical_dtype(vector):\n",
      "C:\\Users\\boetr\\AppData\\Local\\Packages\\PythonSoftwareFoundation.Python.3.11_qbz5n2kfra8p0\\LocalCache\\local-packages\\Python311\\site-packages\\seaborn\\_oldcore.py:1119: FutureWarning: use_inf_as_na option is deprecated and will be removed in a future version. Convert inf values to NaN before operating instead.\n",
      "  with pd.option_context('mode.use_inf_as_na', True):\n",
      "C:\\Users\\boetr\\AppData\\Local\\Packages\\PythonSoftwareFoundation.Python.3.11_qbz5n2kfra8p0\\LocalCache\\local-packages\\Python311\\site-packages\\seaborn\\_oldcore.py:1498: FutureWarning: is_categorical_dtype is deprecated and will be removed in a future version. Use isinstance(dtype, CategoricalDtype) instead\n",
      "  if pd.api.types.is_categorical_dtype(vector):\n",
      "C:\\Users\\boetr\\AppData\\Local\\Packages\\PythonSoftwareFoundation.Python.3.11_qbz5n2kfra8p0\\LocalCache\\local-packages\\Python311\\site-packages\\seaborn\\_oldcore.py:1119: FutureWarning: use_inf_as_na option is deprecated and will be removed in a future version. Convert inf values to NaN before operating instead.\n",
      "  with pd.option_context('mode.use_inf_as_na', True):\n"
     ]
    },
    {
     "data": {
      "image/png": "[encoded data removed]",
      "text/plain": [
       "<Figure size 640x480 with 1 Axes>"
      ]
     },
     "metadata": {},
     "output_type": "display_data"
    }
   ],
   "source": [
    "\n",
    "import seaborn as sns\n",
    "import matplotlib.pyplot as plt\n",
    "\n",
    "\n",
    "sns.histplot(data=schaatstijdenVerschil, x='Ronald')\n",
    "sns.histplot(data=schaatstijdenVerschil, x='Michel')\n",
    "\n",
    "plt.title(\"Schaatstijden van Ronald en Michel\")\n",
    "plt.xlabel(\"Tijd (seconden)\")\n",
    "plt.ylabel(\"Frequentie\")\n",
    "\n",
    "legend_labels = ['Ronald', 'Michel']\n",
    "legend_handles = [plt.Line2D([0], [0], color='blue', lw=2), plt.Line2D([0], [0], color='orange', lw=2)]\n",
    "plt.legend(legend_handles, legend_labels, title=\"Schaatser\")\n",
    "\n",
    "plt.show()\n",
    "\n",
    "\n",
    "plt.show()\n"
   ]
  },
  {
   "cell_type": "markdown",
   "metadata": {},
   "source": [
    "## Onderdeel 9"
   ]
  },
  {
   "cell_type": "markdown",
   "metadata": {},
   "source": [
    "Met de vraag uit **onderdeel 7** gaan we ook kijken wat we nog meer kunnen zeggen over de huidige data. \n",
    "* Hoe vaak van alle keren was Ronald/Michel sneller?\n",
    "* Hoeveel procent van de keren was dit?\n",
    "* Maak een top 20 van snelste tijden van de langzamere broer en maak een top 20 van langzaamste tijden van de snellere broer.\n",
    "* Hoe vaak had de langzame broer kunnen winnen van de snelle broer als hij zijn snelste tijden had gereden en de snelle broer zijn langzaamste tijden? (gebruik de gesoorteerde tabellen van de tijden om dit te tellen)\n"
   ]
  },
  {
   "cell_type": "code",
   "execution_count": 95,
   "metadata": {},
   "outputs": [
    {
     "name": "stdout",
     "output_type": "stream",
     "text": [
      "Aantal keren dat Ronald sneller was: 3\n",
      "Aantal keren dat Michel sneller was: 22\n",
      "Percentage van de keren dat Ronald sneller was: 11.54%\n",
      "Percentage van de keren dat Michel sneller was: 84.62%\n",
      "Top 20 snelste tijden van de langzamere broer (Michel):\n",
      "         Datum                  Ijsbaan  Michel  Ronald  Verschil  \\\n",
      "4  2017-12-22  IJsstadion Thialf (NED)   34.90   34.74     -0.16   \n",
      "21 2018-12-15  IJsstadion Thialf (NED)   34.95   35.14      0.19   \n",
      "11 2019-12-21  IJsstadion Thialf (NED)   34.96   34.91     -0.05   \n",
      "0  2017-12-27  IJsstadion Thialf (NED)   34.98   34.49     -0.49   \n",
      "5  2019-02-16  IJsstadion Thialf (NED)   34.99   34.78     -0.21   \n",
      "9  2019-01-19  IJsstadion Thialf (NED)   35.01   34.87     -0.14   \n",
      "7  2016-12-21  IJsstadion Thialf (NED)   35.02   34.81     -0.21   \n",
      "1  2018-12-28  IJsstadion Thialf (NED)   35.04   34.60     -0.44   \n",
      "10 2016-02-06  IJsstadion Thialf (NED)   35.07   34.89     -0.18   \n",
      "18 2019-11-01  IJsstadion Thialf (NED)   35.14   35.00     -0.14   \n",
      "23 2016-01-23  IJsstadion Thialf (NED)   35.14   35.25      0.11   \n",
      "13 2019-10-26  IJsstadion Thialf (NED)   35.16   34.94     -0.22   \n",
      "6  2016-03-05  IJsstadion Thialf (NED)   35.18   34.80     -0.38   \n",
      "15 2018-12-22  IJsstadion Thialf (NED)   35.19   34.95     -0.24   \n",
      "22 2018-11-02  IJsstadion Thialf (NED)   35.22   35.22      0.00   \n",
      "8  2016-12-28  IJsstadion Thialf (NED)   35.23   34.83     -0.40   \n",
      "19 2017-10-21  IJsstadion Thialf (NED)   35.23   35.06     -0.17   \n",
      "25 2019-12-27  IJsstadion Thialf (NED)   35.27   35.38      0.11   \n",
      "14 2015-12-27  IJsstadion Thialf (NED)   35.34   34.95     -0.39   \n",
      "16 2017-01-21  IJsstadion Thialf (NED)   35.43   34.98     -0.45   \n",
      "\n",
      "              Season    StartYear  \n",
      "4   Season 2017-2018  Season 2017  \n",
      "21  Season 2018-2019  Season 2018  \n",
      "11  Season 2019-2020  Season 2019  \n",
      "0   Season 2017-2018  Season 2017  \n",
      "5   Season 2019-2020  Season 2019  \n",
      "9   Season 2019-2020  Season 2019  \n",
      "7   Season 2016-2017  Season 2016  \n",
      "1   Season 2018-2019  Season 2018  \n",
      "10  Season 2016-2017  Season 2016  \n",
      "18  Season 2019-2020  Season 2019  \n",
      "23  Season 2016-2017  Season 2016  \n",
      "13  Season 2019-2020  Season 2019  \n",
      "6   Season 2016-2017  Season 2016  \n",
      "15  Season 2018-2019  Season 2018  \n",
      "22  Season 2018-2019  Season 2018  \n",
      "8   Season 2016-2017  Season 2016  \n",
      "19  Season 2017-2018  Season 2017  \n",
      "25  Season 2019-2020  Season 2019  \n",
      "14  Season 2015-2016  Season 2015  \n",
      "16  Season 2017-2018  Season 2017  \n",
      "\n",
      "Top 20 langzaamste tijden van de snellere broer (Ronald):\n",
      "         Datum                  Ijsbaan  Michel  Ronald  Verschil  \\\n",
      "25 2019-12-27  IJsstadion Thialf (NED)   35.27   35.38      0.11   \n",
      "24 2015-12-21  IJsstadion Thialf (NED)   35.54   35.30     -0.24   \n",
      "23 2016-01-23  IJsstadion Thialf (NED)   35.14   35.25      0.11   \n",
      "22 2018-11-02  IJsstadion Thialf (NED)   35.22   35.22      0.00   \n",
      "21 2018-12-15  IJsstadion Thialf (NED)   34.95   35.14      0.19   \n",
      "20 2015-12-27  IJsstadion Thialf (NED)   35.62   35.11     -0.51   \n",
      "19 2017-10-21  IJsstadion Thialf (NED)   35.23   35.06     -0.17   \n",
      "17 2017-01-22  IJsstadion Thialf (NED)   35.51   35.00     -0.51   \n",
      "18 2019-11-01  IJsstadion Thialf (NED)   35.14   35.00     -0.14   \n",
      "16 2017-01-21  IJsstadion Thialf (NED)   35.43   34.98     -0.45   \n",
      "14 2015-12-27  IJsstadion Thialf (NED)   35.34   34.95     -0.39   \n",
      "15 2018-12-22  IJsstadion Thialf (NED)   35.19   34.95     -0.24   \n",
      "13 2019-10-26  IJsstadion Thialf (NED)   35.16   34.94     -0.22   \n",
      "12 2016-01-22  IJsstadion Thialf (NED)   35.63   34.92     -0.71   \n",
      "11 2019-12-21  IJsstadion Thialf (NED)   34.96   34.91     -0.05   \n",
      "10 2016-02-06  IJsstadion Thialf (NED)   35.07   34.89     -0.18   \n",
      "9  2019-01-19  IJsstadion Thialf (NED)   35.01   34.87     -0.14   \n",
      "8  2016-12-28  IJsstadion Thialf (NED)   35.23   34.83     -0.40   \n",
      "7  2016-12-21  IJsstadion Thialf (NED)   35.02   34.81     -0.21   \n",
      "6  2016-03-05  IJsstadion Thialf (NED)   35.18   34.80     -0.38   \n",
      "\n",
      "              Season    StartYear  \n",
      "25  Season 2019-2020  Season 2019  \n",
      "24  Season 2015-2016  Season 2015  \n",
      "23  Season 2016-2017  Season 2016  \n",
      "22  Season 2018-2019  Season 2018  \n",
      "21  Season 2018-2019  Season 2018  \n",
      "20  Season 2015-2016  Season 2015  \n",
      "19  Season 2017-2018  Season 2017  \n",
      "17  Season 2017-2018  Season 2017  \n",
      "18  Season 2019-2020  Season 2019  \n",
      "16  Season 2017-2018  Season 2017  \n",
      "14  Season 2015-2016  Season 2015  \n",
      "15  Season 2018-2019  Season 2018  \n",
      "13  Season 2019-2020  Season 2019  \n",
      "12  Season 2016-2017  Season 2016  \n",
      "11  Season 2019-2020  Season 2019  \n",
      "10  Season 2016-2017  Season 2016  \n",
      "9   Season 2019-2020  Season 2019  \n",
      "8   Season 2016-2017  Season 2016  \n",
      "7   Season 2016-2017  Season 2016  \n",
      "6   Season 2016-2017  Season 2016  \n",
      "Hoe vaak Michel had kunnen winnen van Ronald: 7 keer\n"
     ]
    }
   ],
   "source": [
    "#Hoe vaak van alle keren was Ronald/Michel sneller?\n",
    "aantal_keer_ronald_sneller = (schaatstijdenVerschil['Verschil'] > 0).sum()\n",
    "aantal_keer_michel_sneller = (schaatstijdenVerschil['Verschil'] < 0).sum()\n",
    "\n",
    "print(f\"Aantal keren dat Ronald sneller was: {aantal_keer_ronald_sneller}\")\n",
    "print(f\"Aantal keren dat Michel sneller was: {aantal_keer_michel_sneller}\")\n",
    "\n",
    "#Hoeveel procent van de keren was dit?\n",
    "totaal_aantal_keren = len(schaatstijdenVerschil)\n",
    "percentage_ronald_sneller = (aantal_keer_ronald_sneller / totaal_aantal_keren) * 100\n",
    "percentage_michel_sneller = (aantal_keer_michel_sneller / totaal_aantal_keren) * 100\n",
    "\n",
    "print(f\"Percentage van de keren dat Ronald sneller was: {percentage_ronald_sneller:.2f}%\")\n",
    "print(f\"Percentage van de keren dat Michel sneller was: {percentage_michel_sneller:.2f}%\")\n",
    "\n",
    "#Maak een top 20 van snelste tijden van de langzamere broer en maak een top 20 van langzaamste tijden van de snellere broer.\n",
    "top_20_langzamere = schaatstijdenVerschil.nsmallest(20, 'Michel')\n",
    "top_20_snellere = schaatstijdenVerschil.nlargest(20, 'Ronald')\n",
    "\n",
    "print(\"Top 20 snelste tijden van de langzamere broer (Michel):\\n\", top_20_langzamere)\n",
    "print(\"\\nTop 20 langzaamste tijden van de snellere broer (Ronald):\\n\", top_20_snellere)\n",
    "\n",
    "\n",
    "# Sorteer de tijden van Michel van snel naar langzaam en reset de index\n",
    "gesorteerde_tijden_michel = schaatstijdenVerschil.sort_values(by='Michel').reset_index(drop=True)\n",
    "\n",
    "# Sorteer de tijden van Ronald van langzaam naar snel en reset de index\n",
    "gesorteerde_tijden_ronald = schaatstijdenVerschil.sort_values(by='Ronald', ascending=False).reset_index(drop=True)\n",
    "\n",
    "# Tel hoe vaak Michel sneller was dan Ronald in de gesorteerde lijsten\n",
    "aantal_keer_michel_kon_winnen = (gesorteerde_tijden_michel['Michel'] < gesorteerde_tijden_ronald['Ronald']).sum()\n",
    "\n",
    "print(f\"Hoe vaak Michel had kunnen winnen van Ronald: {aantal_keer_michel_kon_winnen} keer\")\n",
    "\n",
    "\n"
   ]
  },
  {
   "cell_type": "markdown",
   "metadata": {},
   "source": [
    "#### Antwoord"
   ]
  }
 ],
 "metadata": {
  "kernelspec": {
   "display_name": "Python 3 (ipykernel)",
   "language": "python",
   "name": "python3"
  },
  "language_info": {
   "codemirror_mode": {
    "name": "ipython",
    "version": 3
   },
   "file_extension": ".py",
   "mimetype": "text/x-python",
   "name": "python",
   "nbconvert_exporter": "python",
   "pygments_lexer": "ipython3",
   "version": "3.11.5"
  }
 },
 "nbformat": 4,
 "nbformat_minor": 4
}
