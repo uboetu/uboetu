{
 "cells": [
  {
   "cell_type": "markdown",
   "metadata": {},
   "source": [
    "# 1\n",
    "Er zijn meerdere 1-dimensionale structuren in Python. De list, de numpy array en pandas Series zijn degene die je het meest zal gebruiken (numpy en pandas zijn packages).\n",
    "\n",
    "Meer informatie over lists: https://www.youtube.com/watch?v=U8x0wpgU9Kk&list=PLwkTCAI_gJjW10xaAJpdqeQx7EQgFolfG&index=4 \n",
    "\n",
    "**A. Maak een list met de getallen 6 tot en met 10** (2 min) "
   ]
  },
  {
   "cell_type": "code",
   "execution_count": 33,
   "metadata": {},
   "outputs": [],
   "source": [
    "list1 = [6,7,8,9,10]"
   ]
  },
  {
   "cell_type": "markdown",
   "metadata": {},
   "source": [
    "**B. Geef de list de naam list1** (1 min)"
   ]
  },
  {
   "cell_type": "code",
   "execution_count": 34,
   "metadata": {},
   "outputs": [],
   "source": [
    "list1 = list1"
   ]
  },
  {
   "cell_type": "markdown",
   "metadata": {},
   "source": [
    "**C. Zet de list om in een numpy array en pandas series. Importeer eerst deze twee packages** (5 min) <br>\n",
    "Introductie in numpy: https://www.youtube.com/watch?v=WkK39hhP8Yk&list=PLwkTCAI_gJjW10xaAJpdqeQx7EQgFolfG&index=6 <br>\n",
    "Introductie in pandas: https://www.youtube.com/watch?v=s8G6SQLKvHs&list=PLwkTCAI_gJjW10xaAJpdqeQx7EQgFolfG&index=7"
   ]
  },
  {
   "cell_type": "code",
   "execution_count": 35,
   "metadata": {},
   "outputs": [],
   "source": [
    "import numpy as np      \n",
    "import pandas as pd\n",
    "\n",
    "np_array = np.array(list1)\n",
    "pd_series = pd.Series(list1)"
   ]
  },
  {
   "cell_type": "code",
   "execution_count": null,
   "metadata": {},
   "outputs": [],
   "source": []
  },
  {
   "cell_type": "code",
   "execution_count": null,
   "metadata": {},
   "outputs": [],
   "source": []
  },
  {
   "cell_type": "markdown",
   "metadata": {},
   "source": [
    "### **2. Tel 5 op bij alle getallen in list1, doe hetzelfde voor de array en series**\n",
    "\n",
    "Voor de python list hebben we een list comprehension nodig. De numpy array en pandas Series kunnen het in één keer. <br>\n",
    "(8 min)"
   ]
  },
  {
   "cell_type": "code",
   "execution_count": 36,
   "metadata": {},
   "outputs": [],
   "source": [
    "\n",
    "pd_series = pd_series+5\n",
    "\n",
    "np_array = np_array + 5\n"
   ]
  },
  {
   "cell_type": "code",
   "execution_count": null,
   "metadata": {},
   "outputs": [],
   "source": []
  },
  {
   "cell_type": "code",
   "execution_count": null,
   "metadata": {},
   "outputs": [],
   "source": []
  },
  {
   "cell_type": "markdown",
   "metadata": {},
   "source": [
    "## 3\n",
    "**A. Maak een tweede list met de letters A,B,C,D,E en noem deze list2** (2 min)"
   ]
  },
  {
   "cell_type": "code",
   "execution_count": 37,
   "metadata": {},
   "outputs": [],
   "source": [
    "list2 = ['A', 'B', 'C', 'D', 'E']"
   ]
  },
  {
   "cell_type": "code",
   "execution_count": null,
   "metadata": {},
   "outputs": [],
   "source": [
    "\n"
   ]
  },
  {
   "cell_type": "markdown",
   "metadata": {},
   "source": [
    "**B. Maak een pandas dataframe met de naam df die bestaat uit twee kolommen: list1 en list2** <br> (4 min). Voor achtergrond zie introductie in pandas (1C)"
   ]
  },
  {
   "cell_type": "code",
   "execution_count": 44,
   "metadata": {},
   "outputs": [
    {
     "name": "stdout",
     "output_type": "stream",
     "text": [
      "[6, 7, 8, 9, 10] ['A', 'B', 'C', 'D', 'E']\n",
      "A     6\n",
      "B     7\n",
      "C     8\n",
      "D     9\n",
      "E    10\n",
      "dtype: int64\n"
     ]
    }
   ],
   "source": [
    "print(list1, list2)\n",
    "aars=pd.Series(list1, list2)\n"
   ]
  },
  {
   "cell_type": "markdown",
   "metadata": {},
   "source": [
    "**C. Voeg een derde kolom toe aan de dataframe met 5 x de waarde TRUE** (3 min) <br>\n",
    "Toevoegen kolommen: https://www.youtube.com/watch?v=GU6YNLxVdU8&list=PLwkTCAI_gJjW10xaAJpdqeQx7EQgFolfG&index=10"
   ]
  },
  {
   "cell_type": "code",
   "execution_count": 47,
   "metadata": {},
   "outputs": [
    {
     "name": "stdout",
     "output_type": "stream",
     "text": [
      "   Kolom1 Kolom2  Kolom3\n",
      "0       6      A    True\n",
      "1       7      B    True\n",
      "2       8      C    True\n",
      "3       9      D    True\n",
      "4      10      E    True\n"
     ]
    }
   ],
   "source": [
    "import pandas as pd\n",
    "\n",
    "# Voorbeeld DataFrame\n",
    "data = {'Kolom1': [6, 7, 8, 9, 10],\n",
    "        'Kolom2': ['A', 'B', 'C', 'D', 'E']}\n",
    "\n",
    "df = pd.DataFrame(data)\n",
    "\n",
    "# Voeg een derde kolom toe met 5 keer de waarde TRUE\n",
    "df['Kolom3'] = [True] * 5\n",
    "\n",
    "# Toon het resulterende DataFrame\n",
    "print(df)\n"
   ]
  },
  {
   "cell_type": "markdown",
   "metadata": {},
   "source": [
    "## 4 \n",
    "**Check of je working directory overeenkomt met de map waarin je de werkcolleges wil opslaan** (2 min)\n",
    "\n"
   ]
  },
  {
   "cell_type": "code",
   "execution_count": null,
   "metadata": {},
   "outputs": [],
   "source": [
    "#doe lekker opkankeren"
   ]
  },
  {
   "cell_type": "markdown",
   "metadata": {},
   "source": [
    "## 5\n",
    "**Gebruik de functie 'read_csv()' uit het pandas package om de dataset in te laden en geef het de\n",
    "naam *HairEyeColour*** (3 min)"
   ]
  },
  {
   "cell_type": "markdown",
   "metadata": {},
   "source": []
  },
  {
   "cell_type": "code",
   "execution_count": 57,
   "metadata": {},
   "outputs": [
    {
     "name": "stdout",
     "output_type": "stream",
     "text": [
      "      Hair    Eye     Sex\n",
      "0    Blond   Blue  Female\n",
      "1    Brown  Brown    Male\n",
      "2    Brown   Blue    Male\n",
      "3    Brown  Green    Male\n",
      "4    Brown  Hazel    Male\n",
      "..     ...    ...     ...\n",
      "587  Black  Green  Female\n",
      "588    Red  Hazel  Female\n",
      "589  Brown  Brown    Male\n",
      "590  Blond   Blue  Female\n",
      "591  Black  Brown  Female\n",
      "\n",
      "[592 rows x 3 columns]\n"
     ]
    }
   ],
   "source": [
    "HairEyeColor = pd.read_csv(\"HairEyeColor.csv\")\n",
    "print(HairEyeColor)"
   ]
  },
  {
   "cell_type": "markdown",
   "metadata": {},
   "source": [
    "## 6 \n",
    "**Wat voor type variabelen zitten er in de dataset?** (3 min) <br> Tip: gebruik de method 'info()'\n",
    "\n",
    "object betekent 'tekst'\n",
    "\n",
    "<br>\n",
    "Voor achtergrond over data exploratie zie: https://www.youtube.com/watch?v=kQrV91jRIWQ&list=PLwkTCAI_gJjW10xaAJpdqeQx7EQgFolfG&index=9 "
   ]
  },
  {
   "cell_type": "code",
   "execution_count": 58,
   "metadata": {},
   "outputs": [
    {
     "name": "stdout",
     "output_type": "stream",
     "text": [
      "<class 'pandas.core.frame.DataFrame'>\n",
      "RangeIndex: 592 entries, 0 to 591\n",
      "Data columns (total 3 columns):\n",
      " #   Column  Non-Null Count  Dtype \n",
      "---  ------  --------------  ----- \n",
      " 0   Hair    592 non-null    object\n",
      " 1   Eye     592 non-null    object\n",
      " 2   Sex     592 non-null    object\n",
      "dtypes: object(3)\n",
      "memory usage: 14.0+ KB\n"
     ]
    }
   ],
   "source": [
    "HairEyeColor.info()"
   ]
  },
  {
   "cell_type": "markdown",
   "metadata": {},
   "source": [
    "## 7 \n",
    "**Hoeveel mannen en hoeveel vrouwen zitten er in de dataset?** (5 min) <br> Tip: gebruik method 'value_counts()' of functie 'crosstab()' uit pandas"
   ]
  },
  {
   "cell_type": "code",
   "execution_count": 62,
   "metadata": {},
   "outputs": [
    {
     "data": {
      "text/plain": [
       "Sex\n",
       "Female    313\n",
       "Male      279\n",
       "Name: count, dtype: int64"
      ]
     },
     "execution_count": 62,
     "metadata": {},
     "output_type": "execute_result"
    }
   ],
   "source": [
    "HairEyeColor.value_counts('Sex')"
   ]
  },
  {
   "cell_type": "markdown",
   "metadata": {},
   "source": [
    "## 8 \n",
    "**Hoe veel roodharige personen met groene ogen zitten er in de dataset?** (5 min)"
   ]
  },
  {
   "cell_type": "code",
   "execution_count": 68,
   "metadata": {},
   "outputs": [
    {
     "data": {
      "text/plain": [
       "Hair   Eye  \n",
       "Brown  Brown    119\n",
       "Blond  Blue      94\n",
       "Brown  Blue      84\n",
       "Black  Brown     68\n",
       "Brown  Hazel     54\n",
       "       Green     29\n",
       "Red    Brown     26\n",
       "Black  Blue      20\n",
       "Red    Blue      17\n",
       "Blond  Green     16\n",
       "Black  Hazel     15\n",
       "Red    Green     14\n",
       "       Hazel     14\n",
       "Blond  Hazel     10\n",
       "       Brown      7\n",
       "Black  Green      5\n",
       "Name: count, dtype: int64"
      ]
     },
     "execution_count": 68,
     "metadata": {},
     "output_type": "execute_result"
    }
   ],
   "source": [
    "HairEyeColor[['Hair','Eye']].value_counts()"
   ]
  },
  {
   "cell_type": "markdown",
   "metadata": {},
   "source": [
    "## 9\n",
    "**Welk percentage van de mensen met blond haar heeft blauwe ogen?** (6 min) <br> Tip: Zie gebruik functie crosstab. Welke optie kan hiervoor gebruiken. https://pandas.pydata.org/docs/reference/api/pandas.crosstab.html"
   ]
  },
  {
   "cell_type": "code",
   "execution_count": 81,
   "metadata": {},
   "outputs": [
    {
     "name": "stdout",
     "output_type": "stream",
     "text": [
      "Ze hebben zo 15.88% blauwe ogen en blond haar\n"
     ]
    }
   ],
   "source": [
    "blond_blue_df = HairEyeColor[(HairEyeColor['Hair'] == 'Blond') & (HairEyeColor['Eye'] == 'Blue')]\n",
    "percentage = len(blond_blue_df)/len(HairEyeColor)*100\n",
    "print(f'Ze hebben zo {percentage:.2f}% blauwe ogen en blond haar')\n"
   ]
  },
  {
   "cell_type": "markdown",
   "metadata": {},
   "source": [
    "## 10\n",
    "**Hoeveel vrouwen hebben blond en haar en blauwe ogen?** (4 min)\n"
   ]
  },
  {
   "cell_type": "code",
   "execution_count": 83,
   "metadata": {},
   "outputs": [
    {
     "name": "stdout",
     "output_type": "stream",
     "text": [
      "64\n"
     ]
    }
   ],
   "source": [
    "blond_blue_f_df = HairEyeColor[(HairEyeColor['Hair'] == 'Blond') & (HairEyeColor['Eye'] == 'Blue') & (HairEyeColor['Sex'] == 'Female')]\n",
    "print(len(blond_blue_f_df))"
   ]
  },
  {
   "cell_type": "markdown",
   "metadata": {},
   "source": [
    "## 11\n",
    "**Voeg een kolom toe aan de dataset met de naam DarkHair. Deze kolom heeft de waarde\n",
    "“Dark” indien de haarkleur Black of Brown is en “Light” indien de haarkleur Blond of Red is.** (8 min)\n",
    "\n",
    "Tip: gebruik functie 'where()' uit numpy package of een list comprehension\n",
    "\n",
    "Introductie in conditional statements: https://www.youtube.com/watch?v=WURqpxX_Rsw&list=PLwkTCAI_gJjW10xaAJpdqeQx7EQgFolfG&index=8"
   ]
  },
  {
   "cell_type": "code",
   "execution_count": 86,
   "metadata": {},
   "outputs": [
    {
     "data": {
      "text/html": [
       "<div>\n",
       "<style scoped>\n",
       "    .dataframe tbody tr th:only-of-type {\n",
       "        vertical-align: middle;\n",
       "    }\n",
       "\n",
       "    .dataframe tbody tr th {\n",
       "        vertical-align: top;\n",
       "    }\n",
       "\n",
       "    .dataframe thead th {\n",
       "        text-align: right;\n",
       "    }\n",
       "</style>\n",
       "<table border=\"1\" class=\"dataframe\">\n",
       "  <thead>\n",
       "    <tr style=\"text-align: right;\">\n",
       "      <th></th>\n",
       "      <th>Hair</th>\n",
       "      <th>Eye</th>\n",
       "      <th>Sex</th>\n",
       "      <th>DarkHair</th>\n",
       "    </tr>\n",
       "  </thead>\n",
       "  <tbody>\n",
       "    <tr>\n",
       "      <th>0</th>\n",
       "      <td>Blond</td>\n",
       "      <td>Blue</td>\n",
       "      <td>Female</td>\n",
       "      <td>Light</td>\n",
       "    </tr>\n",
       "    <tr>\n",
       "      <th>1</th>\n",
       "      <td>Brown</td>\n",
       "      <td>Brown</td>\n",
       "      <td>Male</td>\n",
       "      <td>Dark</td>\n",
       "    </tr>\n",
       "    <tr>\n",
       "      <th>2</th>\n",
       "      <td>Brown</td>\n",
       "      <td>Blue</td>\n",
       "      <td>Male</td>\n",
       "      <td>Dark</td>\n",
       "    </tr>\n",
       "    <tr>\n",
       "      <th>3</th>\n",
       "      <td>Brown</td>\n",
       "      <td>Green</td>\n",
       "      <td>Male</td>\n",
       "      <td>Dark</td>\n",
       "    </tr>\n",
       "    <tr>\n",
       "      <th>4</th>\n",
       "      <td>Brown</td>\n",
       "      <td>Hazel</td>\n",
       "      <td>Male</td>\n",
       "      <td>Dark</td>\n",
       "    </tr>\n",
       "    <tr>\n",
       "      <th>...</th>\n",
       "      <td>...</td>\n",
       "      <td>...</td>\n",
       "      <td>...</td>\n",
       "      <td>...</td>\n",
       "    </tr>\n",
       "    <tr>\n",
       "      <th>587</th>\n",
       "      <td>Black</td>\n",
       "      <td>Green</td>\n",
       "      <td>Female</td>\n",
       "      <td>Dark</td>\n",
       "    </tr>\n",
       "    <tr>\n",
       "      <th>588</th>\n",
       "      <td>Red</td>\n",
       "      <td>Hazel</td>\n",
       "      <td>Female</td>\n",
       "      <td>Light</td>\n",
       "    </tr>\n",
       "    <tr>\n",
       "      <th>589</th>\n",
       "      <td>Brown</td>\n",
       "      <td>Brown</td>\n",
       "      <td>Male</td>\n",
       "      <td>Dark</td>\n",
       "    </tr>\n",
       "    <tr>\n",
       "      <th>590</th>\n",
       "      <td>Blond</td>\n",
       "      <td>Blue</td>\n",
       "      <td>Female</td>\n",
       "      <td>Light</td>\n",
       "    </tr>\n",
       "    <tr>\n",
       "      <th>591</th>\n",
       "      <td>Black</td>\n",
       "      <td>Brown</td>\n",
       "      <td>Female</td>\n",
       "      <td>Dark</td>\n",
       "    </tr>\n",
       "  </tbody>\n",
       "</table>\n",
       "<p>592 rows × 4 columns</p>\n",
       "</div>"
      ],
      "text/plain": [
       "      Hair    Eye     Sex DarkHair\n",
       "0    Blond   Blue  Female    Light\n",
       "1    Brown  Brown    Male     Dark\n",
       "2    Brown   Blue    Male     Dark\n",
       "3    Brown  Green    Male     Dark\n",
       "4    Brown  Hazel    Male     Dark\n",
       "..     ...    ...     ...      ...\n",
       "587  Black  Green  Female     Dark\n",
       "588    Red  Hazel  Female    Light\n",
       "589  Brown  Brown    Male     Dark\n",
       "590  Blond   Blue  Female    Light\n",
       "591  Black  Brown  Female     Dark\n",
       "\n",
       "[592 rows x 4 columns]"
      ]
     },
     "execution_count": 86,
     "metadata": {},
     "output_type": "execute_result"
    }
   ],
   "source": [
    "def categorize_hair_color(hair_color):\n",
    "    if hair_color in ['Black', 'Brown']:\n",
    "        return 'Dark'\n",
    "    elif hair_color in ['Blond', 'Red']:\n",
    "        return 'Light'\n",
    "    else:\n",
    "        return 'Unknown'\n",
    "\n",
    "# Voeg de nieuwe kolom 'DarkHair' toe aan het DataFrame\n",
    "HairEyeColor['DarkLight'] = HairEyeColor['Hair'].apply(categorize_hair_color)\n"
   ]
  },
  {
   "cell_type": "markdown",
   "metadata": {},
   "source": [
    "## 12\n",
    "**Hoeveel personen hebben licht haar?** (3 min)"
   ]
  },
  {
   "cell_type": "code",
   "execution_count": 101,
   "metadata": {},
   "outputs": [
    {
     "name": "stdout",
     "output_type": "stream",
     "text": [
      "The number of individuals with dark hair is: 198\n"
     ]
    }
   ],
   "source": [
    "count_dark_hair = (HairEyeColor['DarkLight'] == 'Light').sum()\n",
    "\n",
    "print(f\"The number of individuals with dark hair is: {count_dark_hair}\")\n"
   ]
  },
  {
   "cell_type": "markdown",
   "metadata": {},
   "source": [
    "## 13 \n",
    "**Welk percentage van de personen heeft licht haar en blauwe ogen?** (3 min)"
   ]
  },
  {
   "cell_type": "code",
   "execution_count": 104,
   "metadata": {},
   "outputs": [
    {
     "name": "stdout",
     "output_type": "stream",
     "text": [
      "18.75\n"
     ]
    }
   ],
   "source": [
    "filtered_df = HairEyeColor[(HairEyeColor['Hair'].isin(['Blond', 'Red'])) & (HairEyeColor['Eye'] == 'Blue')]\n",
    "percentage_light_hair_blue_eyes = (len(filtered_df) / len(HairEyeColor)) * 100\n",
    "print(percentage_light_hair_blue_eyes)"
   ]
  }
 ],
 "metadata": {
  "kernelspec": {
   "display_name": "Python 3 (ipykernel)",
   "language": "python",
   "name": "python3"
  },
  "language_info": {
   "codemirror_mode": {
    "name": "ipython",
    "version": 3
   },
   "file_extension": ".py",
   "mimetype": "text/x-python",
   "name": "python",
   "nbconvert_exporter": "python",
   "pygments_lexer": "ipython3",
   "version": "3.11.5"
  }
 },
 "nbformat": 4,
 "nbformat_minor": 4
}
